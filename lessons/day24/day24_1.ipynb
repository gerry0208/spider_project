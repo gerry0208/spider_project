{
 "cells": [
  {
   "cell_type": "code",
   "id": "initial_id",
   "metadata": {
    "collapsed": true,
    "ExecuteTime": {
     "end_time": "2024-08-16T10:02:29.608954Z",
     "start_time": "2024-08-16T10:02:29.601955Z"
    }
   },
   "source": [
    "import redis\n",
    "\n",
    "r = redis.Redis('localhost', '6379', 0)"
   ],
   "outputs": [],
   "execution_count": 37
  },
  {
   "metadata": {
    "ExecuteTime": {
     "end_time": "2024-08-16T10:02:31.692833Z",
     "start_time": "2024-08-16T10:02:29.616876Z"
    }
   },
   "cell_type": "code",
   "source": [
    "# string\n",
    "# 保存数据\n",
    "r.set('name', 'jay')\n",
    "\n",
    "# 读取数据\n",
    "data = r.get('name')\n",
    "print(data.decode())\n",
    "\n",
    "# 删除数据\n",
    "r.delete('name')\n",
    "\n",
    "# 读取数据\n",
    "data = r.get('name')\n",
    "print(data)"
   ],
   "id": "956b477147823279",
   "outputs": [
    {
     "name": "stdout",
     "output_type": "stream",
     "text": [
      "jay\n",
      "None\n"
     ]
    }
   ],
   "execution_count": 38
  },
  {
   "metadata": {
    "ExecuteTime": {
     "end_time": "2024-08-16T10:03:54.773900Z",
     "start_time": "2024-08-16T10:03:54.756447Z"
    }
   },
   "cell_type": "code",
   "source": [
    "# hash\n",
    "# 保存数据\n",
    "r.flushall()\n",
    "r.hset('user', 'name', 'jay')\n",
    "\n",
    "# 读取数据\n",
    "data = r.hget('user', 'name')\n",
    "print(data.decode())\n",
    "\n",
    "# 删除数据\n",
    "r.hdel('user', 'name')\n",
    "\n",
    "# 读取数据\n",
    "data = r.hget('user', 'name')\n",
    "print(data)"
   ],
   "id": "900586dea10774aa",
   "outputs": [
    {
     "name": "stdout",
     "output_type": "stream",
     "text": [
      "jay\n",
      "None\n"
     ]
    }
   ],
   "execution_count": 45
  },
  {
   "metadata": {
    "ExecuteTime": {
     "end_time": "2024-08-16T10:02:31.770131Z",
     "start_time": "2024-08-16T10:02:31.741389Z"
    }
   },
   "cell_type": "code",
   "source": [
    "# list\n",
    "# 保存数据\n",
    "r.flushall()\n",
    "r.lpush('list', 1, 2, 3)\n",
    "r.rpush('list', 4, 5, 6)\n",
    "\n",
    "# 读取数据\n",
    "data_list = r.lrange('list', 0, -1)\n",
    "print([data.decode() for data in data_list])\n",
    "\n",
    "# 删除数据\n",
    "r.lrem('list', 1, 1)\n",
    "\n",
    "# 读取数据\n",
    "data_list = r.lrange('list', 0, -1)\n",
    "print([data.decode() for data in data_list])"
   ],
   "id": "e3e89a5d60e556d0",
   "outputs": [
    {
     "name": "stdout",
     "output_type": "stream",
     "text": [
      "['3', '2', '1', '4', '5', '6']\n",
      "['3', '2', '4', '5', '6']\n"
     ]
    }
   ],
   "execution_count": 40
  },
  {
   "metadata": {
    "ExecuteTime": {
     "end_time": "2024-08-16T10:02:31.848533Z",
     "start_time": "2024-08-16T10:02:31.827385Z"
    }
   },
   "cell_type": "code",
   "source": [
    "# set\n",
    "# 保存数据\n",
    "r.flushall()\n",
    "r.sadd('set', 1, 2, 3)\n",
    "\n",
    "# 读取数据\n",
    "data = r.smembers('set')\n",
    "print([data.decode() for data in data_list])\n",
    "\n",
    "# 删除数据\n",
    "r.srem('set', 1)\n",
    "\n",
    "# 读取数据\n",
    "data = r.smembers('set')\n",
    "print([data.decode() for data in data_list])"
   ],
   "id": "5bbc77d6d722c148",
   "outputs": [
    {
     "name": "stdout",
     "output_type": "stream",
     "text": [
      "['3', '2', '4', '5', '6']\n",
      "['3', '2', '4', '5', '6']\n"
     ]
    }
   ],
   "execution_count": 41
  },
  {
   "metadata": {
    "ExecuteTime": {
     "end_time": "2024-08-16T10:02:31.879790Z",
     "start_time": "2024-08-16T10:02:31.866682Z"
    }
   },
   "cell_type": "code",
   "source": [
    "# sorted_set\n",
    "# 保存数据\n",
    "r.flushall()\n",
    "r.zadd('sorted_set', {'一': 1, '二': 2, '三': 3})\n",
    "\n",
    "# 读取数据\n",
    "data_list = r.zrange('sorted_set', 0, -1, withscores=True)\n",
    "print([(key.decode(), value) for key, value in data_list])\n",
    "\n",
    "# 删除数据\n",
    "r.zrem('sorted_set', '一')\n",
    "\n",
    "# 读取数据\n",
    "data_list = r.zrange('sorted_set', 0, -1, withscores=True)\n",
    "print([(key.decode(), value) for key, value in data_list])"
   ],
   "id": "79fc76aad882834b",
   "outputs": [
    {
     "name": "stdout",
     "output_type": "stream",
     "text": [
      "[('一', 1.0), ('二', 2.0), ('三', 3.0)]\n",
      "[('二', 2.0), ('三', 3.0)]\n"
     ]
    }
   ],
   "execution_count": 42
  }
 ],
 "metadata": {
  "kernelspec": {
   "display_name": "Python 3",
   "language": "python",
   "name": "python3"
  },
  "language_info": {
   "codemirror_mode": {
    "name": "ipython",
    "version": 2
   },
   "file_extension": ".py",
   "mimetype": "text/x-python",
   "name": "python",
   "nbconvert_exporter": "python",
   "pygments_lexer": "ipython2",
   "version": "2.7.6"
  }
 },
 "nbformat": 4,
 "nbformat_minor": 5
}
